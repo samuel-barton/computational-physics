{
 "cells": [
  {
   "cell_type": "markdown",
   "metadata": {},
   "source": [
    "# PHY 261 - Week 5 Discussion\n",
    "\n",
    "Today we wll cover the concept of functions and modularity. Beyond that we will also discuss the conect of functions as parameters and basic debugging.\n",
    "\n",
    "First, we define two functions"
   ]
  },
  {
   "cell_type": "code",
   "execution_count": 14,
   "metadata": {
    "collapsed": true
   },
   "outputs": [],
   "source": [
    "import math as m\n",
    "\n",
    "\n",
    "def f(x):\n",
    "    '''\n",
    "    calculate x squared\n",
    "    '''\n",
    "    return x*x\n",
    "\n",
    "def g(x):\n",
    "    '''\n",
    "    calculate the square root of x\n",
    "    '''\n",
    "    return m.sqrt(x)"
   ]
  },
  {
   "cell_type": "markdown",
   "metadata": {},
   "source": [
    "We've created these two useful functions, one to calculate $x^2$ and the other to calculate $\\sqrt{x}$. One fascinating thing about Python is that it allows us to pass in a function as a variable to another function. This operates exactly like the composition of functions. \n",
    "\n",
    "Thus $g(f(x))$ is $\\sqrt{x^2}$\n",
    "\n",
    "What this means is that python can understand operations performed on some function as though that function were just a number. It does all the work behind the scenes to interperet the operation with whatever the function actuallly does."
   ]
  },
  {
   "cell_type": "code",
   "execution_count": 3,
   "metadata": {
    "collapsed": false,
    "scrolled": true
   },
   "outputs": [
    {
     "name": "stdout",
     "output_type": "stream",
     "text": [
      "square root of 10 ^2 10.0\n"
     ]
    }
   ],
   "source": [
    "print(\"square root of\", 10, \"^2\", g(f(10)))"
   ]
  },
  {
   "cell_type": "markdown",
   "metadata": {},
   "source": [
    "We use functions because they enable us to type less, and reuse the same code many times without copying and pasting. Copyting and pasting large sections of code is a sure fire way to create numerous errors which are hard to track down. Beyond the benefit of keeping one's code in one place, using functions to separate out complex code makes the overall algorithm being developed more clear in that your thought process is more visible when complex operations are moved out into functions, especially when those functions are well named so their operation is easily understood. \n",
    "\n",
    "Functions also provide a single point of failure for code, so if in time you discoere that you made some mistake "
   ]
  },
  {
   "cell_type": "markdown",
   "metadata": {},
   "source": [
    "Below we have the use of the bitwise and operation '&' performed on some integer with the value of 1. This ignores all but the last bit in the number's binary representation and since binary numbers are sums of powers of two we have that some integer & 1 will be 0 if the number is even as the last bit of a number which is factor of 2 will be 0, and will be 1 if the number is odd as the last bit of an odd number is always 1."
   ]
  },
  {
   "cell_type": "code",
   "execution_count": 13,
   "metadata": {
    "collapsed": false
   },
   "outputs": [
    {
     "name": "stdout",
     "output_type": "stream",
     "text": [
      "10 as binary  0b1010\n",
      "11 as binary 0b1011\n",
      "11 & 1 is 1\n",
      "10 & 1 is 0\n"
     ]
    }
   ],
   "source": [
    "print(\"10 as binary \",bin(10))\n",
    "print(\"11 as binary\", bin(11))\n",
    "print(\"11 & 1 is\", 11 & 1)\n",
    "print(\"10 & 1 is\", 10 & 1)"
   ]
  },
  {
   "cell_type": "markdown",
   "metadata": {},
   "source": [
    "We will now be discussing the Euler method."
   ]
  },
  {
   "cell_type": "code",
   "execution_count": null,
   "metadata": {
    "collapsed": true
   },
   "outputs": [],
   "source": []
  }
 ],
 "metadata": {
  "anaconda-cloud": {},
  "kernelspec": {
   "display_name": "Python [conda root]",
   "language": "python",
   "name": "conda-root-py"
  },
  "language_info": {
   "codemirror_mode": {
    "name": "ipython",
    "version": 3
   },
   "file_extension": ".py",
   "mimetype": "text/x-python",
   "name": "python",
   "nbconvert_exporter": "python",
   "pygments_lexer": "ipython3",
   "version": "3.5.2"
  }
 },
 "nbformat": 4,
 "nbformat_minor": 1
}
