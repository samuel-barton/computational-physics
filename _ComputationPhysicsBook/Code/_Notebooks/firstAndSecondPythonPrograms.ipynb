{
 "metadata": {
  "name": "firstAndSecondPythonPrograms"
 },
 "nbformat": 3,
 "nbformat_minor": 0,
 "worksheets": [
  {
   "cells": [
    {
     "cell_type": "heading",
     "level": 1,
     "metadata": {},
     "source": [
      "    First Python Program"
     ]
    },
    {
     "cell_type": "markdown",
     "metadata": {},
     "source": [
      "Here is the code from the First Python Program in the text:"
     ]
    },
    {
     "cell_type": "raw",
     "metadata": {},
     "source": [
      "import sys \n",
      "from math import *\n",
      "try: \n",
      "    v0 = float(sys.argv[1]) # initial velocity \n",
      "    t = float(sys.argv[2]) # time \n",
      "except: \n",
      "    print \"Usage:\", sys.argv[0], \"v0 time\" \n",
      "    sys.exit(1)\n",
      "    \n",
      "y = v0*t-4.9*t**2 # position \n",
      "print \"ball's position is\", y, \"meters at t=\", t, \"seconds\"\n"
     ]
    },
    {
     "cell_type": "markdown",
     "metadata": {},
     "source": [
      "We will now see how much easier this is to implement in an ipython notebook.  \n",
      "The primary difference is that instead of reading from the command line,  \n",
      "we can simply define our initial variables in a code cell like this  \n",
      "(type shift-enter or shift-return to execute):"
     ]
    },
    {
     "cell_type": "code",
     "collapsed": false,
     "input": [
      "v0 = 9.8 # initial velocity (m/s)\n",
      "t = 1.0  # time (sec)"
     ],
     "language": "python",
     "metadata": {},
     "outputs": [],
     "prompt_number": 8
    },
    {
     "cell_type": "markdown",
     "metadata": {},
     "source": [
      "Now we simply execute the following cell:"
     ]
    },
    {
     "cell_type": "code",
     "collapsed": false,
     "input": [
      "y = v0*t-4.9*t**2\t#  position \n",
      "print \"ball's position is\", y, \"meters at t=\", t, \"seconds\""
     ],
     "language": "python",
     "metadata": {},
     "outputs": [
      {
       "output_type": "stream",
       "stream": "stdout",
       "text": [
        "ball's position is 4.9 meters at t= 1.0 seconds\n"
       ]
      }
     ],
     "prompt_number": 9
    },
    {
     "cell_type": "markdown",
     "metadata": {},
     "source": [
      "Now, to re-run the code with different input values, we return  \n",
      "to the top code cell and modify the values for v0 and t,  \n",
      "evaluate the cell, and then move to the next code cell and  \n",
      "evaluate it. Somewhat tedious, but easier on the eyes than  \n",
      "the full python program"
     ]
    },
    {
     "cell_type": "heading",
     "level": 1,
     "metadata": {},
     "source": [
      "    Second Python Program"
     ]
    },
    {
     "cell_type": "markdown",
     "metadata": {},
     "source": [
      "I'll dispense with showing the original program, as it's in the text.  \n",
      "I'll start by defining variables and importing the python system library.  \n",
      "(Notice that I don't need to import numpy and matplotlib, as the \n",
      "call to  \n",
      "the ipython notebook did that for me)\n"
     ]
    },
    {
     "cell_type": "code",
     "collapsed": false,
     "input": [
      "import sys\n",
      "g =9.8\n",
      "t=0.0\n",
      "v0 = 9.8\n",
      "tmax = 2.0\n",
      "dt = 0.01\n",
      "outfilename = 'yData.dat'\n",
      "rcParams['figure.figsize'] = 10, 6 # make the default figure size bigger"
     ],
     "language": "python",
     "metadata": {},
     "outputs": [],
     "prompt_number": 10
    },
    {
     "cell_type": "markdown",
     "metadata": {},
     "source": [
      "Now I'll define the height function:"
     ]
    },
    {
     "cell_type": "code",
     "collapsed": false,
     "input": [
      "def height(v0,t):\n",
      "\tif t==0 and v0<0.0: \n",
      "\t\tprint \"initial velocity must be >= 0\"\n",
      "\t\tsys.exit(1)\n",
      "\telif (v0*t-0.5*g*t**2) >=0.0: \n",
      "\t\treturn v0*t-0.5*g*t**2\n",
      "\telse:\n",
      "\t\tprint \"ball has hit the ground\"\n",
      "\t\treturn 0.0"
     ],
     "language": "python",
     "metadata": {},
     "outputs": [],
     "prompt_number": 11
    },
    {
     "cell_type": "markdown",
     "metadata": {},
     "source": [
      "and here's the rest of the code:"
     ]
    },
    {
     "cell_type": "code",
     "collapsed": false,
     "input": [
      "outfile = open(outfilename, 'w')\n",
      "outfile.write('time (s) \\t height (m) \\n')\n",
      "\n",
      "# Main calculation loop\n",
      "imax = int(tmax/dt)\n",
      "for i in range(imax+1):\n",
      "\tt=i*dt\n",
      "\ty = height(v0,t)\n",
      "\toutfile.write('%g \\t %g\\n' % (t,y))\n",
      "outfile.close()\n",
      "\n",
      "# read in the datafile, & plot it with MatPlotLib:\t\n",
      "data = np.loadtxt(outfilename, skiprows=1)\t# (pylab function)\n",
      "xaxis = data[ : , 0 ]\t\t\t# first column\n",
      "yaxis = data[ : , 1 ]\t\t\t# second column\n",
      "plt.plot( xaxis, yaxis, marker='o', linestyle='None')\n",
      "plt.xlabel('time (s)')\n",
      "plt.ylabel('Height (m)')\n",
      "plt.title('Vertically Launched Ball')\n",
      "plt.show()\n"
     ],
     "language": "python",
     "metadata": {},
     "outputs": [
      {
       "output_type": "display_data",
       "png": "[encoded data removed]",
       "text": [
        "<matplotlib.figure.Figure at 0x10cb949d0>"
       ]
      }
     ],
     "prompt_number": 12
    },
    {
     "cell_type": "heading",
     "level": 1,
     "metadata": {},
     "source": [
      "Second Python Program using numpy  \n",
      "to Write And Read data file"
     ]
    },
    {
     "cell_type": "markdown",
     "metadata": {},
     "source": [
      "NumPy included several routines to save and read data from files  \n",
      "(see http://docs.scipy.org/doc/numpy/reference/routines.io.html )  \n",
      "Here I'll eliminate the height() function and use numpy arrays to  \n",
      "calculate the ball's position for any time t. In addition, you can  \n",
      "see that I've added a fontsize parameter to increase the size of  \n",
      "text in the axes labels."
     ]
    },
    {
     "cell_type": "code",
     "collapsed": false,
     "input": [
      "import sys\n",
      "g =9.8\n",
      "t=0.0\n",
      "v0 = 9.8\n",
      "tmax = 2.0\n",
      "dt = 0.01\n",
      "outfilename = 'yData.dat'\n",
      "\n",
      "# Main calculation using numpy arrays\n",
      "t = np.arange(0.0, tmax, dt) \n",
      "y = v0*t-0.5*g*t**2\n",
      "\n",
      "# write data arrays to a file using numpy:\n",
      "# (np.c_ forces arrays to be written as columns)\n",
      "\n",
      "np.savetxt(outfilename, np.c_[t,y], fmt = '%.3f', delimiter='\\t' ) \n",
      "\n",
      "# read in the datafile, & plot it with MatPlotLib:\t\n",
      "data = np.loadtxt(outfilename, skiprows=1)\t# (pylab function)\n",
      "xaxis = data[ : , 0 ]\t\t\t# first column\n",
      "yaxis = data[ : , 1 ]\t\t\t# second column\n",
      "plt.plot( xaxis, yaxis, marker='o', color = 'r', linestyle='None')\n",
      "plt.xlabel('time (s)', fontsize = 18)\n",
      "plt.ylabel('Height (m)', fontsize = 18)\n",
      "plt.title('Vertically Launched Ball', fontsize = 20)\n",
      "plt.show()"
     ],
     "language": "python",
     "metadata": {},
     "outputs": [
      {
       "output_type": "display_data",
       "png": "[encoded data removed]",
       "text": [
        "<matplotlib.figure.Figure at 0x10cbb0290>"
       ]
      }
     ],
     "prompt_number": 14
    },
    {
     "cell_type": "code",
     "collapsed": false,
     "input": [],
     "language": "python",
     "metadata": {},
     "outputs": []
    }
   ],
   "metadata": {}
  }
 ]
}