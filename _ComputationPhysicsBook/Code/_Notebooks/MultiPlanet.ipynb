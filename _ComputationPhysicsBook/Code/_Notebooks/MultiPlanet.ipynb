{
 "metadata": {
  "name": "MultiPlanet.ipynb"
 },
 "nbformat": 3,
 "nbformat_minor": 0,
 "worksheets": [
  {
   "cells": [
    {
     "cell_type": "code",
     "collapsed": false,
     "input": [
      "pi = math.pi\n",
      "G = 4*math.pi*math.pi\n",
      "AU = 1.496e11\n",
      "M_SUN = 1.989e30\n",
      "M_EARTH = 5.974e24\n",
      "M_MOON = 7.348e22\n",
      "M_JUPITER = 1.898e27\n",
      "## define dimensionless masses:\n",
      "m1 = 1.0\n",
      "m2 = M_EARTH/M_SUN\n",
      "m3 = M_MOON/M_SUN\n",
      "m4 = M_JUPITER/M_SUN\n",
      "## define initial positions and velocities as vectors:\n",
      "r1 = np.array([0.0, 0.0])\n",
      "r2 = np.array([1.0, 0.0])\n",
      "r3 = np.array([1.0 + 3.84401e8, 0.0])\n",
      "r4 = np.array([5.204, 0.0])\n",
      "cm = ( m1*r1 + m2*r2 ) /(m1 + m2)\n",
      "v1 = np.array([0.0, -2.0*pi*m2/m1])   ## this insures that ptotal = 0\n",
      "v2 = np.array([0.0, 2.0*pi])\n",
      "v3 = np.array([0.0, 2.0*pi+ .2])\n",
      "v4 = np.array([0.0, \n",
      "dt = 0.001\n",
      "tmax = 1.0"
     ],
     "language": "python",
     "metadata": {},
     "outputs": []
    },
    {
     "cell_type": "code",
     "collapsed": false,
     "input": [],
     "language": "python",
     "metadata": {},
     "outputs": []
    }
   ],
   "metadata": {}
  }
 ]
}