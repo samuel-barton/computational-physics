{
 "metadata": {
  "name": "Ch1 Problems"
 },
 "nbformat": 3,
 "nbformat_minor": 0,
 "worksheets": [
  {
   "cells": [
    {
     "cell_type": "heading",
     "level": 1,
     "metadata": {},
     "source": [
      "Chapter 1: Problems"
     ]
    },
    {
     "cell_type": "heading",
     "level": 4,
     "metadata": {},
     "source": [
      "Python as a calculator"
     ]
    },
    {
     "cell_type": "markdown",
     "metadata": {},
     "source": [
      "Use Python interactively to evaluate the following mathematical expressions,  \n",
      "and compare to what you would calculate exactly by paper and pencil:  \n",
      "\n",
      "(a) $7.5 + \\frac{5}{2}$  \n",
      "(b) $2.0*(3.0\\times 10^8)^2$  \n",
      "(c) $tan(\\frac{\\pi}{4})$  \n",
      "(d) $3\\times 10^{-7}\\log (1000)$  \n",
      "(e) $\\sin(90^o)$  \n",
      "(f) $\\cos(\\frac{\\pi}{2})$  \n",
      "(g) $\\ln(e)$\n"
     ]
    }
   ],
   "metadata": {}
  }
 ]
}