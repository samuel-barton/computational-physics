{
 "metadata": {
  "name": "ReadingWritingDataFiles.ipynb"
 },
 "nbformat": 3,
 "nbformat_minor": 0,
 "worksheets": [
  {
   "cells": [
    {
     "cell_type": "heading",
     "level": 1,
     "metadata": {},
     "source": [
      "Reading and Writing Data files with Python"
     ]
    },
    {
     "cell_type": "markdown",
     "metadata": {},
     "source": [
      "Paul Nakroshis, Physics Department | University of Southern Maine  | email: pauln at maine dot edu  \n",
      "web  : people.usm.maine.edu/pauln   | This document: v3.1  3-Oct-2013  "
     ]
    },
    {
     "cell_type": "raw",
     "metadata": {},
     "source": [
      "One of the most important things that scientists need to do on a daily basis is to interact with data.\n",
      "Much of the time, this data is in data files that are either \n",
      "a) comman serparated values (CSV),\n",
      "b) space separated values (SSV) \n",
      "c) tab separated values (TSV)\n",
      "Numerical python provides several routines for reading or writing such data files:\n",
      "i)   np.loadtxt()\n",
      "ii)  np.genfromtxt()\n",
      "iii) np.savetxt()\n",
      "(see http://docs.scipy.org/doc/numpy/reference/routines.io.html for documentation)\n",
      "\n",
      "\n",
      "Numpy also has it's own native data format for saving arrays (.npy) and has routines\n",
      "i)  np.load() \n",
      "ii) np.save() \n",
      "for reading and writing such files. I haven't used these formats myself...mainly because\n",
      "I seel to like tab separated files due to the fact that I can read them in any text editor. \n",
      "\n",
      "\n",
      "For CSV, SSV, or TSV files with no missing values, it's easiest to use np.loadtxt(), \n",
      "but for more difficult files that may contain missing values, np.genfromtxt() \n",
      "provides option to deal with missing points. There are other options for dealing with \n",
      "such files: \n",
      "a) write your own code by reading the files from within python (without the use of numpy) \n",
      "b) use numpy's np.genfromtxt()\n",
      "(see http://docs.scipy.org/doc/numpy/reference/generated/numpy.genfromtxt.html#numpy.genfromtxt)\n"
     ]
    },
    {
     "cell_type": "heading",
     "level": 2,
     "metadata": {},
     "source": [
      "Data files with NO missing values"
     ]
    },
    {
     "cell_type": "heading",
     "level": 3,
     "metadata": {},
     "source": [
      "Example: TAB Separated Values "
     ]
    },
    {
     "cell_type": "markdown",
     "metadata": {},
     "source": [
      "First, we need some data; let's generate a set of noisy fake data by  \n",
      "creating an array of times and then an equal-sized array with a sine wave  \n",
      "and a random noise signal superimposed. "
     ]
    }
   ],
   "metadata": {}
  }
 ]
}