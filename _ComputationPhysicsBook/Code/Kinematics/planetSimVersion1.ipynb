{
 "metadata": {
  "name": "planetSimVersion1.ipynb"
 },
 "nbformat": 3,
 "nbformat_minor": 0,
 "worksheets": [
  {
   "cells": [
    {
     "cell_type": "heading",
     "level": 1,
     "metadata": {},
     "source": [
      "Earth And Sun Orbit Simulation"
     ]
    },
    {
     "cell_type": "code",
     "collapsed": false,
     "input": [
      "pi = math.pi\n",
      "G = 4*math.pi*math.pi\n",
      "AU = 1.496e11\n",
      "M_SUN = 1.989e30\n",
      "M_EARTH = 5.974e24\n",
      "## define dimensionless masses:\n",
      "m1 = 1.0\n",
      "m2 = M_EARTH/M_SUN\n",
      "## define initial positions and velocities as vectors:\n",
      "r1 = np.array([0.0, 0.0])\n",
      "r2 = np.array([1.0, 0.0])\n",
      "cm = ( m1*r1 + m2*r2 ) /(m1 + m2)\n",
      "v1 = np.array([0.0, -2.0*pi*m2/m1])   ## this insures that ptotal = 0\n",
      "v2 = np.array([0.0, 2.0*pi])\n",
      "dt = 0.001\n",
      "tmax = 1.0"
     ],
     "language": "python",
     "metadata": {},
     "outputs": [],
     "prompt_number": 1
    },
    {
     "cell_type": "code",
     "collapsed": false,
     "input": [
      "def integrate(r1, r2, v1, v2, dt, m1, m2, method):\n",
      "    if method == 'Euler' \\\n",
      "    or method == 'euler' \\\n",
      "    or method == 'EULER' \\\n",
      "    or method == 'EC' \\\n",
      "    or method == 'ec' :\n",
      "        ## Brute force method: d = ((math.sqrt((r2[0] - r1[0])**2 + (r2[1] - r1[1])**2))**3.0\n",
      "        d = np.linalg.norm(r2 - r1)**3.0\n",
      "        V1new = v1 + 4*pi**2 * m2 *(r2 - r1)*dt/d\n",
      "        V2new = v2 - 4*pi**2 * m1 *(r2 - r1)*dt/d  \n",
      "        R1new = r1 + V1new*dt\n",
      "        R2new = r2 + V2new*dt\n",
      "    else:\n",
      "        print \"Nothing being done; only Euler-Cromer method defined\" \n",
      "        print\n",
      "        pass\n",
      "    return (R1new, R2new, V1new, V2new)\n"
     ],
     "language": "python",
     "metadata": {},
     "outputs": [],
     "prompt_number": 2
    },
    {
     "cell_type": "code",
     "collapsed": false,
     "input": [
      "# define time array:\n",
      "t = np.arange(0, tmax, dt)\n",
      "r1_wave = copy(r1); r2_wave = copy(r2); v1_wave = copy(v1); v2_wave = copy(v2)\n",
      "for time in range(len(t)-1):\n",
      "    R1new, R2new, V1new, V2new = integrate(r1, r2, v1, v2, dt , m1, m2, 'EC')\n",
      "    r1_wave = np.vstack((r1_wave, R1new))\n",
      "    r2_wave = np.vstack((r2_wave, R2new))\n",
      "    v1_wave = np.vstack((v1_wave, V1new))\n",
      "    v2_wave = np.vstack((v2_wave, V2new))\n",
      "    r1 = R1new\n",
      "    r2 = R2new\n",
      "    v1 = V1new\n",
      "    v2 = V2new\n",
      "#print r1_wave    \n",
      "figure(num=None, figsize=(14, 14), dpi=100, facecolor='w', edgecolor='k')\n",
      "#plt.ylim(-1.0e-5,1.0e-5)\n",
      "#plt.xlim(-1.0e-5,1.0e-5)\n",
      "plt.ylim(-1.2, 1.2)\n",
      "plt.xlim(-1.2, 1.2)\n",
      "plt.axes().set_aspect('equal', 'datalim')\n",
      "plt.plot(r2_wave[: ,0], r2_wave[: ,1], ',')\n",
      "plt.plot(r1_wave[: ,0], r1_wave[: ,1], 'o')\n"
     ],
     "language": "python",
     "metadata": {},
     "outputs": [
      {
       "metadata": {},
       "output_type": "pyout",
       "prompt_number": 3,
       "text": [
        "[<matplotlib.lines.Line2D at 0x10d624e50>]"
       ]
      },
      {
       "metadata": {},
       "output_type": "display_data",
       "png": "[encoded data removed]",
       "text": [
        "<matplotlib.figure.Figure at 0x10d59e210>"
       ]
      }
     ],
     "prompt_number": 3
    },
    {
     "cell_type": "code",
     "collapsed": false,
     "input": [
      "v2_wave[ : ,0].size, t.size"
     ],
     "language": "python",
     "metadata": {},
     "outputs": [
      {
       "output_type": "pyout",
       "prompt_number": 7,
       "text": [
        "(1000, 999)"
       ]
      }
     ],
     "prompt_number": 7
    },
    {
     "cell_type": "code",
     "collapsed": false,
     "input": [
      "print len(r1_wave[ : ,0]), len(t)"
     ],
     "language": "python",
     "metadata": {},
     "outputs": [
      {
       "output_type": "stream",
       "stream": "stdout",
       "text": [
        "1000 1000\n"
       ]
      }
     ],
     "prompt_number": 5
    },
    {
     "cell_type": "code",
     "collapsed": false,
     "input": [
      "plot(t, np.sqrt((v2_wave[ : ,0])**2 + (v2_wave[ : ,1])**2))"
     ],
     "language": "python",
     "metadata": {},
     "outputs": [
      {
       "output_type": "pyout",
       "prompt_number": 6,
       "text": [
        "[<matplotlib.lines.Line2D at 0x10bacb610>]"
       ]
      },
      {
       "output_type": "display_data",
       "png": "[encoded data removed]",
       "text": [
        "<matplotlib.figure.Figure at 0x10ba65650>"
       ]
      }
     ],
     "prompt_number": 6
    },
    {
     "cell_type": "code",
     "collapsed": false,
     "input": [
      "import numpy as np\n",
      "from matplotlib import pyplot as plt\n",
      "from matplotlib import animation\n",
      "\n",
      "# First set up the figure, the axis, and the plot element we want to animate\n",
      "fig = plt.figure()\n",
      "ax = plt.axes(xlim=(0, 2), ylim=(-2, 2))\n",
      "line, = ax.plot([], [], lw=1)\n",
      "\n",
      "# initialization function: plot the background of each frame\n",
      "def init():\n",
      "    line.set_data([], [])\n",
      "    return line,\n",
      "\n",
      "# animation function.  This is called sequentially\n",
      "def animate(i):\n",
      "    x = np.linspace(0, 2, 1000)\n",
      "    y = np.sin(2 * np.pi * (x - 0.01 * i))\n",
      "    line.set_data(x, y)\n",
      "    return line,\n",
      "\n",
      "# call the animator.  blit=True means only re-draw the parts that have changed.\n",
      "anim = animation.FuncAnimation(fig, animate, init_func=init,\n",
      "                               frames=200, interval=20, blit=True)\n",
      "\n",
      "# save the animation as an mp4.  This requires ffmpeg or mencoder to be\n",
      "# installed.  The extra_args ensure that the x264 codec is used, so that\n",
      "# the video can be embedded in html5.  You may need to adjust this for\n",
      "# your system: for more information, see\n",
      "# http://matplotlib.sourceforge.net/api/animation_api.html\n",
      "anim.save('basic_animation.mp4', fps=30) #,  extra_args=['-vcodec', 'libx264'])\n",
      "\n",
      "plt.show()\n"
     ],
     "language": "python",
     "metadata": {},
     "outputs": [
      {
       "output_type": "display_data",
       "png": "[encoded data removed]"
      }
     ],
     "prompt_number": 7
    },
    {
     "cell_type": "code",
     "collapsed": false,
     "input": [
      "!mplayer basic_animation.mp4"
     ],
     "language": "python",
     "metadata": {},
     "outputs": [
      {
       "output_type": "stream",
       "stream": "stdout",
       "text": [
        "MPlayer svn r34540 (Ubuntu), built with gcc-4.7 (C) 2000-2012 MPlayer Team\r\n",
        "mplayer: could not connect to socket\r\n",
        "mplayer: No such file or directory\r\n",
        "Failed to open LIRC support. You will not be able to use your remote control.\r\n",
        "\r\n",
        "Playing basic_animation.mp4.\r\n",
        "libavformat version 53.21.1 (external)\r\n",
        "Mismatching header version 53.19.0\r\n",
        "libavformat file format detected.\r\n",
        "[lavf] stream 0: video (mpeg4), -vid 0\r\n",
        "VIDEO:  [MP4V]  432x288  24bpp  30.000 fps  354.8 kbps (43.3 kbyte/s)\r\n",
        "Clip info:\r\n",
        " major_brand: isom\r\n",
        " minor_version: 512\r\n",
        " compatible_brands: isomiso2mp41\r\n",
        " encoder: Lavf53.21.1\r\n",
        "Load subtitles in ./\r\n"
       ]
      },
      {
       "output_type": "stream",
       "stream": "stdout",
       "text": [
        "Failed to open VDPAU backend libvdpau_nvidia.so: cannot open shared object file: No such file or directory\r\n",
        "[vdpau] Error when calling vdp_device_create_x11: 1\r\n",
        "==========================================================================\r\n",
        "Opening video decoder: [ffmpeg] FFmpeg's libavcodec codec family\r\n",
        "libavcodec version 53.35.0 (external)\r\n",
        "Mismatching header version 53.32.2\r\n",
        "Unsupported PixelFormat 61\r\n",
        "Unsupported PixelFormat 53\r\n",
        "Unsupported PixelFormat 81\r\n",
        "Selected video codec: [ffodivx] vfm: ffmpeg (FFmpeg MPEG-4)\r\n",
        "==========================================================================\r\n",
        "Audio: no sound\r\n",
        "Starting playback...\r\n",
        "Movie-Aspect is 1.50:1 - prescaling to correct movie aspect.\r\n",
        "VO: [xv] 432x288 => 432x288 Planar YV12 \r\n"
       ]
      },
      {
       "output_type": "stream",
       "stream": "stdout",
       "text": [
        "V:   0.0   0/  0 ??% ??% ??,?% 0 0 \u001b[J\r",
        "V:   0.0   0/  0 ??% ??% ??,?% 0 0 \u001b[J\r",
        "V:   0.1   0/  0 ??% ??% ??,?% 0 0 \u001b[J\r",
        "V:   0.1   0/  0 ??% ??% ??,?% 0 0 \u001b[J\r"
       ]
      },
      {
       "output_type": "stream",
       "stream": "stdout",
       "text": [
        "V:   0.1   0/  0 ??% ??% ??,?% 0 0 \u001b[J\r"
       ]
      },
      {
       "output_type": "stream",
       "stream": "stdout",
       "text": [
        "V:   0.2   0/  0 ??% ??% ??,?% 0 0 \u001b[J\r",
        "V:   0.2   0/  0 ??% ??% ??,?% 0 0 \u001b[J\r"
       ]
      },
      {
       "output_type": "stream",
       "stream": "stdout",
       "text": [
        "V:   0.2   0/  0 ??% ??% ??,?% 0 0 \u001b[J\r"
       ]
      },
      {
       "output_type": "stream",
       "stream": "stdout",
       "text": [
        "V:   0.3   0/  0 ??% ??% ??,?% 0 0 \u001b[J\r",
        "V:   0.3   0/  0 ??% ??% ??,?% 0 0 \u001b[J\r"
       ]
      },
      {
       "output_type": "stream",
       "stream": "stdout",
       "text": [
        "V:   0.3   0/  0 ??% ??% ??,?% 0 0 \u001b[J\r"
       ]
      },
      {
       "output_type": "stream",
       "stream": "stdout",
       "text": [
        "V:   0.4   0/  0 ??% ??% ??,?% 0 0 \u001b[J\r",
        "V:   0.4   0/  0 ??% ??% ??,?% 0 0 \u001b[J\r"
       ]
      },
      {
       "output_type": "stream",
       "stream": "stdout",
       "text": [
        "V:   0.4   0/  0 ??% ??% ??,?% 0 0 \u001b[J\r"
       ]
      },
      {
       "output_type": "stream",
       "stream": "stdout",
       "text": [
        "V:   0.5   0/  0 ??% ??% ??,?% 0 0 \u001b[J\r",
        "V:   0.5   0/  0  7%  2%  0.0% 0 0 \u001b[J\r"
       ]
      },
      {
       "output_type": "stream",
       "stream": "stdout",
       "text": [
        "V:   0.5   0/  0  7%  2%  0.0% 0 0 \u001b[J\r"
       ]
      },
      {
       "output_type": "stream",
       "stream": "stdout",
       "text": [
        "V:   0.6   0/  0  6%  2%  0.0% 0 0 \u001b[J\r",
        "V:   0.6   0/  0  6%  2%  0.0% 0 0 \u001b[J\r"
       ]
      },
      {
       "output_type": "stream",
       "stream": "stdout",
       "text": [
        "V:   0.6   0/  0  6%  2%  0.0% 0 0 \u001b[J\r"
       ]
      },
      {
       "output_type": "stream",
       "stream": "stdout",
       "text": [
        "V:   0.7   0/  0  6%  2%  0.0% 0 0 \u001b[J\r",
        "V:   0.7   0/  0  5%  2%  0.0% 0 0 \u001b[J\r"
       ]
      },
      {
       "output_type": "stream",
       "stream": "stdout",
       "text": [
        "V:   0.7   0/  0  5%  2%  0.0% 0 0 \u001b[J\r",
        "V:   0.8   0/  0  5%  1%  0.0% 0 0 \u001b[J\r"
       ]
      },
      {
       "output_type": "stream",
       "stream": "stdout",
       "text": [
        "V:   0.8   0/  0  5%  1%  0.0% 0 0 \u001b[J\r"
       ]
      },
      {
       "output_type": "stream",
       "stream": "stdout",
       "text": [
        "V:   0.8   0/  0  5%  1%  0.0% 0 0 \u001b[J\r",
        "V:   0.9   0/  0  4%  1%  0.0% 0 0 \u001b[J\r"
       ]
      },
      {
       "output_type": "stream",
       "stream": "stdout",
       "text": [
        "V:   0.9   0/  0  4%  1%  0.0% 0 0 \u001b[J\r"
       ]
      },
      {
       "output_type": "stream",
       "stream": "stdout",
       "text": [
        "V:   0.9   0/  0  4%  1%  0.0% 0 0 \u001b[J\r",
        "V:   1.0   0/  0  4%  1%  0.0% 0 0 \u001b[J\r"
       ]
      },
      {
       "output_type": "stream",
       "stream": "stdout",
       "text": [
        "V:   1.0   0/  0  4%  1%  0.0% 0 0 \u001b[J\r"
       ]
      },
      {
       "output_type": "stream",
       "stream": "stdout",
       "text": [
        "V:   1.0   0/  0  4%  1%  0.0% 0 0 \u001b[J\r",
        "V:   1.1   0/  0  4%  1%  0.0% 0 0 \u001b[J\r"
       ]
      },
      {
       "output_type": "stream",
       "stream": "stdout",
       "text": [
        "V:   1.1   0/  0  3%  1%  0.0% 0 0 \u001b[J\r"
       ]
      },
      {
       "output_type": "stream",
       "stream": "stdout",
       "text": [
        "V:   1.1   0/  0  3%  1%  0.0% 0 0 \u001b[J\r",
        "V:   1.2   0/  0  3%  1%  0.0% 0 0 \u001b[J\r"
       ]
      },
      {
       "output_type": "stream",
       "stream": "stdout",
       "text": [
        "V:   1.2   0/  0  3%  1%  0.0% 0 0 \u001b[J\r"
       ]
      },
      {
       "output_type": "stream",
       "stream": "stdout",
       "text": [
        "V:   1.2   0/  0  3%  1%  0.0% 0 0 \u001b[J\r",
        "V:   1.3   0/  0  3%  1%  0.0% 0 0 \u001b[J\r"
       ]
      },
      {
       "output_type": "stream",
       "stream": "stdout",
       "text": [
        "V:   1.3   0/  0  3%  1%  0.0% 0 0 \u001b[J\r"
       ]
      },
      {
       "output_type": "stream",
       "stream": "stdout",
       "text": [
        "V:   1.3   0/  0  3%  1%  0.0% 0 0 \u001b[J\r",
        "V:   1.4   0/  0  3%  1%  0.0% 0 0 \u001b[J\r"
       ]
      },
      {
       "output_type": "stream",
       "stream": "stdout",
       "text": [
        "V:   1.4   0/  0  3%  1%  0.0% 0 0 \u001b[J\r",
        "V:   1.4   0/  0  3%  1%  0.0% 0 0 \u001b[J\r"
       ]
      },
      {
       "output_type": "stream",
       "stream": "stdout",
       "text": [
        "V:   1.5   0/  0  3%  1%  0.0% 0 0 \u001b[J\r"
       ]
      },
      {
       "output_type": "stream",
       "stream": "stdout",
       "text": [
        "V:   1.5   0/  0  3%  1%  0.0% 0 0 \u001b[J\r",
        "V:   1.5   0/  0  2%  1%  0.0% 0 0 \u001b[J\r"
       ]
      },
      {
       "output_type": "stream",
       "stream": "stdout",
       "text": [
        "V:   1.6   0/  0  2%  1%  0.0% 0 0 \u001b[J\r"
       ]
      },
      {
       "output_type": "stream",
       "stream": "stdout",
       "text": [
        "V:   1.6   0/  0  2%  1%  0.0% 0 0 \u001b[J\r",
        "V:   1.6   0/  0  2%  1%  0.0% 0 0 \u001b[J\r"
       ]
      },
      {
       "output_type": "stream",
       "stream": "stdout",
       "text": [
        "V:   1.7   0/  0  2%  1%  0.0% 0 0 \u001b[J\r"
       ]
      },
      {
       "output_type": "stream",
       "stream": "stdout",
       "text": [
        "V:   1.7   0/  0  2%  1%  0.0% 0 0 \u001b[J\r",
        "V:   1.7   0/  0  2%  1%  0.0% 0 0 \u001b[J\r"
       ]
      },
      {
       "output_type": "stream",
       "stream": "stdout",
       "text": [
        "V:   1.8   0/  0  2%  0%  0.0% 0 0 \u001b[J\r"
       ]
      },
      {
       "output_type": "stream",
       "stream": "stdout",
       "text": [
        "V:   1.8   0/  0  2%  0%  0.0% 0 0 \u001b[J\r",
        "V:   1.8   0/  0  2%  0%  0.0% 0 0 \u001b[J\r"
       ]
      },
      {
       "output_type": "stream",
       "stream": "stdout",
       "text": [
        "V:   1.9   0/  0  2%  0%  0.0% 0 0 \u001b[J\r"
       ]
      },
      {
       "output_type": "stream",
       "stream": "stdout",
       "text": [
        "V:   1.9   0/  0  2%  0%  0.0% 0 0 \u001b[J\r",
        "V:   1.9   0/  0  2%  0%  0.0% 0 0 \u001b[J\r"
       ]
      },
      {
       "output_type": "stream",
       "stream": "stdout",
       "text": [
        "V:   2.0   0/  0  2%  0%  0.0% 0 0 \u001b[J\r",
        "V:   2.0   0/  0  2%  0%  0.0% 0 0 \u001b[J\r"
       ]
      },
      {
       "output_type": "stream",
       "stream": "stdout",
       "text": [
        "V:   2.0   0/  0  2%  0%  0.0% 0 0 \u001b[J\r"
       ]
      },
      {
       "output_type": "stream",
       "stream": "stdout",
       "text": [
        "V:   2.1   0/  0  2%  0%  0.0% 0 0 \u001b[J\r",
        "V:   2.1   0/  0  2%  0%  0.0% 0 0 \u001b[J\r"
       ]
      },
      {
       "output_type": "stream",
       "stream": "stdout",
       "text": [
        "V:   2.1   0/  0  2%  0%  0.0% 0 0 \u001b[J\r"
       ]
      },
      {
       "output_type": "stream",
       "stream": "stdout",
       "text": [
        "V:   2.2   0/  0  2%  0%  0.0% 0 0 \u001b[J\r",
        "V:   2.2   0/  0  2%  0%  0.0% 0 0 \u001b[J\r"
       ]
      },
      {
       "output_type": "stream",
       "stream": "stdout",
       "text": [
        "V:   2.2   0/  0  2%  0%  0.0% 0 0 \u001b[J\r"
       ]
      },
      {
       "output_type": "stream",
       "stream": "stdout",
       "text": [
        "V:   2.3   0/  0  2%  0%  0.0% 0 0 \u001b[J\r",
        "V:   2.3   0/  0  2%  0%  0.0% 0 0 \u001b[J\r"
       ]
      },
      {
       "output_type": "stream",
       "stream": "stdout",
       "text": [
        "V:   2.3   0/  0  2%  0%  0.0% 0 0 \u001b[J\r"
       ]
      },
      {
       "output_type": "stream",
       "stream": "stdout",
       "text": [
        "V:   2.4   0/  0  2%  0%  0.0% 0 0 \u001b[J\r",
        "V:   2.4   0/  0  2%  0%  0.0% 0 0 \u001b[J\r"
       ]
      },
      {
       "output_type": "stream",
       "stream": "stdout",
       "text": [
        "V:   2.4   0/  0  2%  0%  0.0% 0 0 \u001b[J\r"
       ]
      },
      {
       "output_type": "stream",
       "stream": "stdout",
       "text": [
        "V:   2.5   0/  0  2%  0%  0.0% 0 0 \u001b[J\r",
        "V:   2.5   0/  0  2%  0%  0.0% 0 0 \u001b[J\r"
       ]
      },
      {
       "output_type": "stream",
       "stream": "stdout",
       "text": [
        "V:   2.5   0/  0  2%  0%  0.0% 0 0 \u001b[J\r",
        "V:   2.6   0/  0  2%  0%  0.0% 0 0 \u001b[J\r"
       ]
      },
      {
       "output_type": "stream",
       "stream": "stdout",
       "text": [
        "V:   2.6   0/  0  2%  0%  0.0% 0 0 \u001b[J\r"
       ]
      },
      {
       "output_type": "stream",
       "stream": "stdout",
       "text": [
        "V:   2.6   0/  0  1%  0%  0.0% 0 0 \u001b[J\r",
        "V:   2.7   0/  0  1%  0%  0.0% 0 0 \u001b[J\r"
       ]
      },
      {
       "output_type": "stream",
       "stream": "stdout",
       "text": [
        "V:   2.7   0/  0  1%  0%  0.0% 0 0 \u001b[J\r"
       ]
      },
      {
       "output_type": "stream",
       "stream": "stdout",
       "text": [
        "V:   2.7   0/  0  1%  0%  0.0% 0 0 \u001b[J\r",
        "V:   2.8   0/  0  1%  0%  0.0% 0 0 \u001b[J\r"
       ]
      },
      {
       "output_type": "stream",
       "stream": "stdout",
       "text": [
        "V:   2.8   0/  0  1%  0%  0.0% 0 0 \u001b[J\r"
       ]
      },
      {
       "output_type": "stream",
       "stream": "stdout",
       "text": [
        "V:   2.8   0/  0  1%  0%  0.0% 0 0 \u001b[J\r",
        "V:   2.9   0/  0  1%  0%  0.0% 0 0 \u001b[J\r"
       ]
      },
      {
       "output_type": "stream",
       "stream": "stdout",
       "text": [
        "V:   2.9   0/  0  1%  0%  0.0% 0 0 \u001b[J\r"
       ]
      },
      {
       "output_type": "stream",
       "stream": "stdout",
       "text": [
        "V:   2.9   0/  0  1%  0%  0.0% 0 0 \u001b[J\r",
        "V:   3.0   0/  0  1%  0%  0.0% 0 0 \u001b[J\r"
       ]
      },
      {
       "output_type": "stream",
       "stream": "stdout",
       "text": [
        "V:   3.0   0/  0  1%  0%  0.0% 0 0 \u001b[J\r"
       ]
      },
      {
       "output_type": "stream",
       "stream": "stdout",
       "text": [
        "V:   3.0   0/  0  1%  0%  0.0% 0 0 \u001b[J\r",
        "V:   3.1   0/  0  1%  0%  0.0% 0 0 \u001b[J\r"
       ]
      },
      {
       "output_type": "stream",
       "stream": "stdout",
       "text": [
        "V:   3.1   0/  0  1%  0%  0.0% 0 0 \u001b[J\r",
        "V:   3.1   0/  0  1%  0%  0.0% 0 0 \u001b[J\r"
       ]
      },
      {
       "output_type": "stream",
       "stream": "stdout",
       "text": [
        "V:   3.2   0/  0  1%  0%  0.0% 0 0 \u001b[J\r"
       ]
      },
      {
       "output_type": "stream",
       "stream": "stdout",
       "text": [
        "V:   3.2   0/  0  1%  0%  0.0% 0 0 \u001b[J\r",
        "V:   3.2   0/  0  1%  0%  0.0% 0 0 \u001b[J\r"
       ]
      },
      {
       "output_type": "stream",
       "stream": "stdout",
       "text": [
        "V:   3.3   0/  0  1%  0%  0.0% 0 0 \u001b[J\r"
       ]
      },
      {
       "output_type": "stream",
       "stream": "stdout",
       "text": [
        "V:   3.3   0/  0  1%  0%  0.0% 0 0 \u001b[J\r",
        "V:   3.3   0/  0  1%  0%  0.0% 0 0 \u001b[J\r"
       ]
      },
      {
       "output_type": "stream",
       "stream": "stdout",
       "text": [
        "V:   3.4   0/  0  1%  0%  0.0% 0 0 \u001b[J\r"
       ]
      },
      {
       "output_type": "stream",
       "stream": "stdout",
       "text": [
        "V:   3.4   0/  0  1%  0%  0.0% 0 0 \u001b[J\r",
        "V:   3.4   0/  0  1%  0%  0.0% 0 0 \u001b[J\r"
       ]
      },
      {
       "output_type": "stream",
       "stream": "stdout",
       "text": [
        "V:   3.5   0/  0  1%  0%  0.0% 0 0 \u001b[J\r"
       ]
      },
      {
       "output_type": "stream",
       "stream": "stdout",
       "text": [
        "V:   3.5   0/  0  1%  0%  0.0% 0 0 \u001b[J\r",
        "V:   3.5   0/  0  1%  0%  0.0% 0 0 \u001b[J\r"
       ]
      },
      {
       "output_type": "stream",
       "stream": "stdout",
       "text": [
        "V:   3.6   0/  0  1%  0%  0.0% 0 0 \u001b[J\r"
       ]
      },
      {
       "output_type": "stream",
       "stream": "stdout",
       "text": [
        "V:   3.6   0/  0  1%  0%  0.0% 0 0 \u001b[J\r",
        "V:   3.6   0/  0  1%  0%  0.0% 0 0 \u001b[J\r"
       ]
      },
      {
       "output_type": "stream",
       "stream": "stdout",
       "text": [
        "V:   3.7   0/  0  1%  0%  0.0% 0 0 \u001b[J\r",
        "V:   3.7   0/  0  1%  0%  0.0% 0 0 \u001b[J\r"
       ]
      },
      {
       "output_type": "stream",
       "stream": "stdout",
       "text": [
        "V:   3.7   0/  0  1%  0%  0.0% 0 0 \u001b[J\r"
       ]
      },
      {
       "output_type": "stream",
       "stream": "stdout",
       "text": [
        "V:   3.8   0/  0  1%  0%  0.0% 0 0 \u001b[J\r",
        "V:   3.8   0/  0  1%  0%  0.0% 0 0 \u001b[J\r"
       ]
      },
      {
       "output_type": "stream",
       "stream": "stdout",
       "text": [
        "V:   3.8   0/  0  1%  0%  0.0% 0 0 \u001b[J\r"
       ]
      },
      {
       "output_type": "stream",
       "stream": "stdout",
       "text": [
        "V:   3.9   0/  0  1%  0%  0.0% 0 0 \u001b[J\r",
        "V:   3.9   0/  0  1%  0%  0.0% 0 0 \u001b[J\r"
       ]
      },
      {
       "output_type": "stream",
       "stream": "stdout",
       "text": [
        "V:   3.9   0/  0  1%  0%  0.0% 0 0 \u001b[J\r"
       ]
      },
      {
       "output_type": "stream",
       "stream": "stdout",
       "text": [
        "V:   4.0   0/  0  1%  0%  0.0% 0 0 \u001b[J\r",
        "V:   4.0   0/  0  1%  0%  0.0% 0 0 \u001b[J\r"
       ]
      },
      {
       "output_type": "stream",
       "stream": "stdout",
       "text": [
        "V:   4.0   0/  0  1%  0%  0.0% 0 0 \u001b[J\r"
       ]
      },
      {
       "output_type": "stream",
       "stream": "stdout",
       "text": [
        "V:   4.1   0/  0  1%  0%  0.0% 0 0 \u001b[J\r",
        "V:   4.1   0/  0  1%  0%  0.0% 0 0 \u001b[J\r"
       ]
      },
      {
       "output_type": "stream",
       "stream": "stdout",
       "text": [
        "V:   4.1   0/  0  1%  0%  0.0% 0 0 \u001b[J\r",
        "V:   4.2   0/  0  1%  0%  0.0% 0 0 \u001b[J\r"
       ]
      },
      {
       "output_type": "stream",
       "stream": "stdout",
       "text": [
        "V:   4.2   0/  0  1%  0%  0.0% 0 0 \u001b[J\r"
       ]
      },
      {
       "output_type": "stream",
       "stream": "stdout",
       "text": [
        "V:   4.2   0/  0  1%  0%  0.0% 0 0 \u001b[J\r",
        "V:   4.3   0/  0  1%  0%  0.0% 0 0 \u001b[J\r"
       ]
      },
      {
       "output_type": "stream",
       "stream": "stdout",
       "text": [
        "V:   4.3   0/  0  1%  0%  0.0% 0 0 \u001b[J\r"
       ]
      },
      {
       "output_type": "stream",
       "stream": "stdout",
       "text": [
        "V:   4.3   0/  0  1%  0%  0.0% 0 0 \u001b[J\r",
        "V:   4.4   0/  0  1%  0%  0.0% 0 0 \u001b[J\r"
       ]
      },
      {
       "output_type": "stream",
       "stream": "stdout",
       "text": [
        "V:   4.4   0/  0  1%  0%  0.0% 0 0 \u001b[J\r"
       ]
      },
      {
       "output_type": "stream",
       "stream": "stdout",
       "text": [
        "V:   4.4   0/  0  1%  0%  0.0% 0 0 \u001b[J\r",
        "V:   4.5   0/  0  1%  0%  0.0% 0 0 \u001b[J\r"
       ]
      },
      {
       "output_type": "stream",
       "stream": "stdout",
       "text": [
        "V:   4.5   0/  0  1%  0%  0.0% 0 0 \u001b[J\r"
       ]
      },
      {
       "output_type": "stream",
       "stream": "stdout",
       "text": [
        "V:   4.5   0/  0  1%  0%  0.0% 0 0 \u001b[J\r",
        "V:   4.6   0/  0  1%  0%  0.0% 0 0 \u001b[J\r"
       ]
      },
      {
       "output_type": "stream",
       "stream": "stdout",
       "text": [
        "V:   4.6   0/  0  1%  0%  0.0% 0 0 \u001b[J\r"
       ]
      },
      {
       "output_type": "stream",
       "stream": "stdout",
       "text": [
        "V:   4.6   0/  0  1%  0%  0.0% 0 0 \u001b[J\r",
        "V:   4.7   0/  0  1%  0%  0.0% 0 0 \u001b[J\r"
       ]
      },
      {
       "output_type": "stream",
       "stream": "stdout",
       "text": [
        "V:   4.7   0/  0  1%  0%  0.0% 0 0 \u001b[J\r"
       ]
      },
      {
       "output_type": "stream",
       "stream": "stdout",
       "text": [
        "V:   4.7   0/  0  1%  0%  0.0% 0 0 \u001b[J\r",
        "V:   4.8   0/  0  1%  0%  0.0% 0 0 \u001b[J\r"
       ]
      },
      {
       "output_type": "stream",
       "stream": "stdout",
       "text": [
        "V:   4.8   0/  0  1%  0%  0.0% 0 0 \u001b[J\r",
        "V:   4.8   0/  0  1%  0%  0.0% 0 0 \u001b[J\r"
       ]
      },
      {
       "output_type": "stream",
       "stream": "stdout",
       "text": [
        "V:   4.9   0/  0  1%  0%  0.0% 0 0 \u001b[J\r"
       ]
      },
      {
       "output_type": "stream",
       "stream": "stdout",
       "text": [
        "V:   4.9   0/  0  1%  0%  0.0% 0 0 \u001b[J\r",
        "V:   4.9   0/  0  1%  0%  0.0% 0 0 \u001b[J\r"
       ]
      },
      {
       "output_type": "stream",
       "stream": "stdout",
       "text": [
        "V:   5.0   0/  0  1%  0%  0.0% 0 0 \u001b[J\r"
       ]
      },
      {
       "output_type": "stream",
       "stream": "stdout",
       "text": [
        "V:   5.0   0/  0  1%  0%  0.0% 0 0 \u001b[J\r",
        "V:   5.0   0/  0  1%  0%  0.0% 0 0 \u001b[J\r"
       ]
      },
      {
       "output_type": "stream",
       "stream": "stdout",
       "text": [
        "V:   5.1   0/  0  1%  0%  0.0% 0 0 \u001b[J\r"
       ]
      },
      {
       "output_type": "stream",
       "stream": "stdout",
       "text": [
        "V:   5.1   0/  0  1%  0%  0.0% 0 0 \u001b[J\r",
        "V:   5.1   0/  0  1%  0%  0.0% 0 0 \u001b[J\r"
       ]
      },
      {
       "output_type": "stream",
       "stream": "stdout",
       "text": [
        "V:   5.2   0/  0  1%  0%  0.0% 0 0 \u001b[J\r"
       ]
      },
      {
       "output_type": "stream",
       "stream": "stdout",
       "text": [
        "V:   5.2   0/  0  1%  0%  0.0% 0 0 \u001b[J\r",
        "V:   5.2   0/  0  1%  0%  0.0% 0 0 \u001b[J\r"
       ]
      },
      {
       "output_type": "stream",
       "stream": "stdout",
       "text": [
        "V:   5.3   0/  0  1%  0%  0.0% 0 0 \u001b[J\r"
       ]
      },
      {
       "output_type": "stream",
       "stream": "stdout",
       "text": [
        "V:   5.3   0/  0  1%  0%  0.0% 0 0 \u001b[J\r",
        "V:   5.3   0/  0  1%  0%  0.0% 0 0 \u001b[J\r"
       ]
      },
      {
       "output_type": "stream",
       "stream": "stdout",
       "text": [
        "V:   5.4   0/  0  1%  0%  0.0% 0 0 \u001b[J\r",
        "V:   5.4   0/  0  1%  0%  0.0% 0 0 \u001b[J\r"
       ]
      },
      {
       "output_type": "stream",
       "stream": "stdout",
       "text": [
        "V:   5.4   0/  0  1%  0%  0.0% 0 0 \u001b[J\r"
       ]
      },
      {
       "output_type": "stream",
       "stream": "stdout",
       "text": [
        "V:   5.5   0/  0  1%  0%  0.0% 0 0 \u001b[J\r",
        "V:   5.5   0/  0  1%  0%  0.0% 0 0 \u001b[J\r"
       ]
      },
      {
       "output_type": "stream",
       "stream": "stdout",
       "text": [
        "V:   5.5   0/  0  1%  0%  0.0% 0 0 \u001b[J\r"
       ]
      },
      {
       "output_type": "stream",
       "stream": "stdout",
       "text": [
        "V:   5.6   0/  0  1%  0%  0.0% 0 0 \u001b[J\r",
        "V:   5.6   0/  0  1%  0%  0.0% 0 0 \u001b[J\r"
       ]
      },
      {
       "output_type": "stream",
       "stream": "stdout",
       "text": [
        "V:   5.6   0/  0  1%  0%  0.0% 0 0 \u001b[J\r"
       ]
      },
      {
       "output_type": "stream",
       "stream": "stdout",
       "text": [
        "V:   5.7   0/  0  1%  0%  0.0% 0 0 \u001b[J\r",
        "V:   5.7   0/  0  1%  0%  0.0% 0 0 \u001b[J\r"
       ]
      },
      {
       "output_type": "stream",
       "stream": "stdout",
       "text": [
        "V:   5.7   0/  0  1%  0%  0.0% 0 0 \u001b[J\r"
       ]
      },
      {
       "output_type": "stream",
       "stream": "stdout",
       "text": [
        "V:   5.8   0/  0  1%  0%  0.0% 0 0 \u001b[J\r",
        "V:   5.8   0/  0  1%  0%  0.0% 0 0 \u001b[J\r"
       ]
      },
      {
       "output_type": "stream",
       "stream": "stdout",
       "text": [
        "V:   5.8   0/  0  1%  0%  0.0% 0 0 \u001b[J\r"
       ]
      },
      {
       "output_type": "stream",
       "stream": "stdout",
       "text": [
        "V:   5.9   0/  0  1%  0%  0.0% 0 0 \u001b[J\r",
        "V:   5.9   0/  0  1%  0%  0.0% 0 0 \u001b[J\r"
       ]
      },
      {
       "output_type": "stream",
       "stream": "stdout",
       "text": [
        "V:   5.9   0/  0  1%  0%  0.0% 0 0 \u001b[J\r",
        "V:   6.0   0/  0  1%  0%  0.0% 0 0 \u001b[J\r"
       ]
      },
      {
       "output_type": "stream",
       "stream": "stdout",
       "text": [
        "V:   6.0   0/  0  1%  0%  0.0% 0 0 \u001b[J\r"
       ]
      },
      {
       "output_type": "stream",
       "stream": "stdout",
       "text": [
        "V:   6.0   0/  0  1%  0%  0.0% 0 0 \u001b[J\r",
        "V:   6.1   0/  0  1%  0%  0.0% 0 0 \u001b[J\r"
       ]
      },
      {
       "output_type": "stream",
       "stream": "stdout",
       "text": [
        "V:   6.1   0/  0  1%  0%  0.0% 0 0 \u001b[J\r"
       ]
      },
      {
       "output_type": "stream",
       "stream": "stdout",
       "text": [
        "V:   6.1   0/  0  1%  0%  0.0% 0 0 \u001b[J\r",
        "V:   6.2   0/  0  1%  0%  0.0% 0 0 \u001b[J\r"
       ]
      },
      {
       "output_type": "stream",
       "stream": "stdout",
       "text": [
        "V:   6.2   0/  0  1%  0%  0.0% 0 0 \u001b[J\r"
       ]
      },
      {
       "output_type": "stream",
       "stream": "stdout",
       "text": [
        "V:   6.2   0/  0  1%  0%  0.0% 0 0 \u001b[J\r",
        "V:   6.3   0/  0  1%  0%  0.0% 0 0 \u001b[J\r"
       ]
      },
      {
       "output_type": "stream",
       "stream": "stdout",
       "text": [
        "V:   6.3   0/  0  1%  0%  0.0% 0 0 \u001b[J\r"
       ]
      },
      {
       "output_type": "stream",
       "stream": "stdout",
       "text": [
        "V:   6.3   0/  0  1%  0%  0.0% 0 0 \u001b[J\r",
        "V:   6.4   0/  0  1%  0%  0.0% 0 0 \u001b[J\r"
       ]
      },
      {
       "output_type": "stream",
       "stream": "stdout",
       "text": [
        "V:   6.4   0/  0  1%  0%  0.0% 0 0 \u001b[J\r",
        "V:   6.4   0/  0  1%  0%  0.0% 0 0 \u001b[J\r"
       ]
      },
      {
       "output_type": "stream",
       "stream": "stdout",
       "text": [
        "V:   6.5   0/  0  1%  0%  0.0% 0 0 \u001b[J\r"
       ]
      },
      {
       "output_type": "stream",
       "stream": "stdout",
       "text": [
        "V:   6.5   0/  0  1%  0%  0.0% 0 0 \u001b[J\r",
        "V:   6.5   0/  0  1%  0%  0.0% 0 0 \u001b[J\r"
       ]
      },
      {
       "output_type": "stream",
       "stream": "stdout",
       "text": [
        "V:   6.6   0/  0  1%  0%  0.0% 0 0 \u001b[J\r"
       ]
      },
      {
       "output_type": "stream",
       "stream": "stdout",
       "text": [
        "V:   6.6   0/  0  1%  0%  0.0% 0 0 \u001b[J\r",
        "V:   6.6   0/  0  1%  0%  0.0% 0 0 \u001b[J\r",
        "V:   6.6   0/  0  1%  0%  0.0% 0 0 \u001b[J\r",
        "\r\n",
        "\r\n",
        "\r\n",
        "Exiting... (End of file)\r\n"
       ]
      }
     ],
     "prompt_number": 8
    },
    {
     "cell_type": "code",
     "collapsed": false,
     "input": [
      "# This example uses a MovieWriter directly to grab individual frames and\n",
      "# write them to a file. This avoids any event loop integration, but has\n",
      "# the advantage of working with even the Agg backend. This is not recommended\n",
      "# for use in an interactive setting.\n",
      "# -*- noplot -*-\n",
      "#matplotlib.use(\"Agg\")\n",
      "import numpy as np\n",
      "import matplotlib\n",
      "import matplotlib.pyplot as plt\n",
      "import matplotlib.animation as manimation\n",
      "\n",
      "FFMpegWriter = manimation.writers['ffmpeg']\n",
      "metadata = dict(title='Movie Test', artist='Matplotlib',\n",
      "        comment='Movie support!')\n",
      "writer = FFMpegWriter(fps=15, metadata=metadata)\n",
      "\n",
      "fig = plt.figure()\n",
      "l, = plt.plot([], [], 'k-o')\n",
      "\n",
      "plt.xlim(-5, 5)\n",
      "plt.ylim(-5, 5)\n",
      "\n",
      "x0,y0 = 0, 0\n",
      "\n",
      "with writer.saving(fig, \"writer_test.mp4\", 100):\n",
      "    for i in range(100):\n",
      "        x0 += 0.1 * np.random.randn()\n",
      "        y0 += 0.1 * np.random.randn()\n",
      "        l.set_data(x0, y0)\n",
      "        writer.grab_frame()"
     ],
     "language": "python",
     "metadata": {},
     "outputs": [
      {
       "output_type": "display_data",
       "png": "[encoded data removed]"
      }
     ],
     "prompt_number": 2
    },
    {
     "cell_type": "code",
     "collapsed": false,
     "input": [],
     "language": "python",
     "metadata": {},
     "outputs": []
    }
   ],
   "metadata": {}
  }
 ]
}