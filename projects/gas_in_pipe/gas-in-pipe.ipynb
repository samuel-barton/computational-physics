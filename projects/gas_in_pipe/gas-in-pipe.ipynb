{
 "cells": [
  {
   "cell_type": "code",
   "execution_count": 70,
   "metadata": {
    "collapsed": false
   },
   "outputs": [],
   "source": [
    "class Particle(object):\n",
    "    def __init__(self,p,m,v):\n",
    "        if (m == 0):\n",
    "            self.mass = 1.0\n",
    "        else:\n",
    "            self.mass = 2.0\n",
    "        self.velocity = v\n",
    "        self.position = p\n",
    "    \n",
    "    def __str__(self):\n",
    "        return format(\"(%f,%f,%f)\" % (self.position, self.mass, self.velocity))\n",
    "    \n",
    "    def move(self,time):\n",
    "        self.position += self.velocity*time\n",
    "    \n",
    "    def collide(self,other):\n",
    "        if (type(other) is Particle or type(other) is Pipe):\n",
    "            # Particle collision physics - change the velocities of both particles\n",
    "            # calculate this particle's final velocity\n",
    "            final_v_1 = ((2*other.mass)/(self.mass + other.mass))*other.velocity\n",
    "            final_v_1 += ((self.mass - other.mass)/(other.mass + self.mass))*self.velocity\n",
    "            \n",
    "            # calculate the other particle's final velocity\n",
    "            final_v_2 = ((2*self.mass)/(self.mass + other.mass))*self.velocity\n",
    "            final_v_2 += ((other.mass - self.mass)/(other.mass + self.mass))*other.velocity\n",
    "\n",
    "            if type(other) is Pipe:\n",
    "                other.velocity = final_v_2\n",
    "            else:\n",
    "                other.velocity = round(final_v_2,1)\n",
    "            if type(self) is Pipe:\n",
    "                self.velocity = final_v_1\n",
    "            else:\n",
    "                self.velocity = round(final_v_1,1)"
   ]
  },
  {
   "cell_type": "markdown",
   "metadata": {},
   "source": [
    "The aboce class defines a particle object which we will be using in our model of the gas in a pipe.\n",
    "\n",
    "The below class defines the pipe itself. "
   ]
  },
  {
   "cell_type": "code",
   "execution_count": 71,
   "metadata": {
    "collapsed": true
   },
   "outputs": [],
   "source": [
    "class Pipe(object):\n",
    "    def __init__(self, l,m,cp,v):\n",
    "        self.length = l\n",
    "        self.mass = m\n",
    "        self.center = cp\n",
    "        self.velocity = v\n",
    "    def move(self,time):\n",
    "        self.center += self.velocity*time\n",
    "    def __str__(self):\n",
    "        return format(\"(%f,%f,%f,%f)\" % (self.length, self.mass, self.center,self.velocity))"
   ]
  },
  {
   "cell_type": "markdown",
   "metadata": {},
   "source": [
    "We now define our situation. We will create an even number n of particles inside a pipe of length L. These particles will be given random positions to the left half of the pipe's center, random velocities between zero and some maximum, which will define our time step, and random masses of either m1 or m2 where m2 is twice m1."
   ]
  },
  {
   "cell_type": "code",
   "execution_count": 72,
   "metadata": {
    "collapsed": false
   },
   "outputs": [],
   "source": [
    "import random\n",
    "# The three main needed variables\n",
    "L = 10.0\n",
    "half_L = L/2\n",
    "V_MAX = 10.0\n",
    "timestep = round(1/V_MAX**2, 2)\n",
    "N = 100\n",
    "\n",
    "possible_velocities = []\n",
    "\n",
    "i = -V_MAX\n",
    "while i < V_MAX:\n",
    "    possible_velocities.append(round(i,1))\n",
    "    i += timestep\n",
    "\n",
    "# build the particles\n",
    "particles = []\n",
    "for i in range (0,N):\n",
    "    velocity = possible_velocities[random.randrange(0,2*int(V_MAX**2),1)]\n",
    "    particles.append(Particle(round(random.random()*half_L,1), \n",
    "                     random.randint(0,1), \n",
    "                     velocity))\n",
    "\n",
    "# build the pipe \n",
    "pipe = Pipe(L, 1000.0,half_L,0.0)"
   ]
  },
  {
   "cell_type": "markdown",
   "metadata": {},
   "source": [
    "Now that we have our particles and pipe made, we can simulate what will happen. WE will see what happens to each particle, and the pipe, in increments of 1/V_MAX seconds. "
   ]
  },
  {
   "cell_type": "code",
   "execution_count": 73,
   "metadata": {
    "collapsed": false,
    "scrolled": false
   },
   "outputs": [],
   "source": [
    "start_time = 0.0\n",
    "stop_time = 10.0\n",
    "\n",
    "f = open(\"pipe_data\", \"w\")\n",
    "\n",
    "i = 0\n",
    "while (i < stop_time):\n",
    "    f.write(\"%f:\\t\" % i)\n",
    "    #for part_p in particles:\n",
    "    #    f.write(\"%s\\t\" % part_p)\n",
    "    #f.write(\"\\n\")\n",
    "    for part_1 in particles:\n",
    "        if abs(part_1.position) < 0.01 +(half_L - pipe.center) or part_1.position > (half_L + pipe.center) - 0.01:\n",
    "            part_1.collide(pipe)\n",
    "            f.write(\"Collision %s, wall %s\\n\" %(part_1, pipe))\n",
    "        else:\n",
    "            for part_2 in particles:\n",
    "                if part_1 != part_2 and abs(part_1.position - part_2.position) < 0.01 and abs(part_1.velocity - part_2.velocity) > 0.01:\n",
    "                    part_1.collide(part_2)\n",
    "                    f.write(\"Collision %s, %s\\n\" % (part_1, part_2))\n",
    "                break\n",
    "    i += timestep\n",
    "    for part in particles:\n",
    "        part.move(timestep)\n",
    "    pipe.move(timestep)"
   ]
  },
  {
   "cell_type": "code",
   "execution_count": null,
   "metadata": {
    "collapsed": true
   },
   "outputs": [],
   "source": []
  }
 ],
 "metadata": {
  "anaconda-cloud": {},
  "kernelspec": {
   "display_name": "Python [default]",
   "language": "python",
   "name": "python3"
  },
  "language_info": {
   "codemirror_mode": {
    "name": "ipython",
    "version": 3
   },
   "file_extension": ".py",
   "mimetype": "text/x-python",
   "name": "python",
   "nbconvert_exporter": "python",
   "pygments_lexer": "ipython3",
   "version": "3.5.2"
  }
 },
 "nbformat": 4,
 "nbformat_minor": 1
}
