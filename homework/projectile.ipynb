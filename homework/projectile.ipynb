{
 "cells": [
  {
   "cell_type": "code",
   "execution_count": 1,
   "metadata": {
    "collapsed": true
   },
   "outputs": [],
   "source": [
    "import matplotlib as mpl\n",
    "import matplotlib.pyplot as plt\n",
    "import numpy as np"
   ]
  },
  {
   "cell_type": "code",
   "execution_count": 8,
   "metadata": {
    "collapsed": true
   },
   "outputs": [],
   "source": [
    "g = 9.8 # units m/s^2\n",
    "rho = 9000 # units kn/m^3\n",
    "theta_i_deg = 30 # degrees\n",
    "theta_i = np.radians(theta_i_deg)\n",
    "v_0 = 100 # m/s\n",
    "b_over_m = (3*rho)/(16*1.2) # r = 1"
   ]
  },
  {
   "cell_type": "code",
   "execution_count": 9,
   "metadata": {
    "collapsed": true
   },
   "outputs": [],
   "source": [
    "def eulerCromer(t_max, delta_t):\n",
    "    velocities_x = []\n",
    "    velocities_y = []\n",
    "    velocities_x.append(v_0*np.cos(theta_i))\n",
    "    velocities_y.append(v_0*np.sin(theta_i))\n",
    "    x = []\n",
    "    y = []\n",
    "    times = []\n",
    "    while times[-1] <= t_max:\n",
    "            velocities_x.append(velocities_x[-1] - \n",
    "                                b_over_m*np.sqrt(velocities_x[-1]**2 + \n",
    "                                                 velocities_y[-1]**2)velocities_x[-1]*delta_t)\n",
    "            velocities_y.append(velocities_y[-1] - \n",
    "                                b_over_m*np.sqrt(velocities_x[-1]**2 + \n",
    "                                                 velocities_y[-1]**2)velocities_y[-1]*delta_t)\n",
    "            "
   ]
  },
  {
   "cell_type": "code",
   "execution_count": null,
   "metadata": {
    "collapsed": true
   },
   "outputs": [],
   "source": []
  }
 ],
 "metadata": {
  "kernelspec": {
   "display_name": "Python [conda root]",
   "language": "python",
   "name": "conda-root-py"
  },
  "language_info": {
   "codemirror_mode": {
    "name": "ipython",
    "version": 3
   },
   "file_extension": ".py",
   "mimetype": "text/x-python",
   "name": "python",
   "nbconvert_exporter": "python",
   "pygments_lexer": "ipython3",
   "version": "3.5.2"
  }
 },
 "nbformat": 4,
 "nbformat_minor": 2
}
