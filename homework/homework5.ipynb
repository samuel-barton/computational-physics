{
 "cells": [
  {
   "cell_type": "code",
   "execution_count": 81,
   "metadata": {
    "collapsed": false,
    "deletable": true,
    "editable": true
   },
   "outputs": [],
   "source": [
    "import matplotlib.pyplot as plt\n",
    "import matplotlib as mpl\n",
    "import numpy as np\n",
    "plt.rc('text', usetex=True)\n",
    "plt.rc('font', family='serif')\n",
    "mpl.rcParams.update({'font.size': 20})\n",
    "mpl.rcParams['figure.figsize'] = 12, 6\n",
    "import jupytertools"
   ]
  },
  {
   "cell_type": "code",
   "execution_count": 82,
   "metadata": {
    "collapsed": true,
    "deletable": true,
    "editable": true
   },
   "outputs": [],
   "source": [
    "def eulerCromer(x_i,y_i,\n",
    "                vx_i,vy_i,\n",
    "                g,b_over_m,\n",
    "                delta_t):\n",
    "    '''\n",
    "    Calculate the new values for v_x, v_y, x, and y using the Euler-Cromer method\n",
    "    '''\n",
    "    # calculate the current magnitude of the velocity vector\n",
    "    v_i = np.sqrt(vx_i**2 + vy_i**2)\n",
    "\n",
    "    # calculate the new x- and y-components of the velocity\n",
    "    vx_new = vx_i - b_over_m*vx_i*v_i*delta_t\n",
    "    vy_new = vy_i - (b_over_m*vy_i*v_i + g)*delta_t\n",
    "    \n",
    "    x_new = x_i + vx_new*delta_t\n",
    "    y_new = y_i + vy_new*delta_t\n",
    "    \n",
    "    return vx_new,vy_new,x_new,y_new"
   ]
  },
  {
   "cell_type": "code",
   "execution_count": 83,
   "metadata": {
    "collapsed": false,
    "deletable": true,
    "editable": true
   },
   "outputs": [],
   "source": [
    "def generateTrajectory(theta, v_0, g, R, delta_t, rho_o, rho_s=1):\n",
    "    '''\n",
    "    Generate the trajectory of our projectile with the Euler-Cromer method\n",
    "    '''\n",
    "    theta = np.radians(theta)\n",
    "    b_over_m = 3*rho_s/(16*rho_o*R)\n",
    "    \n",
    "    x_vals = [0.0]\n",
    "    y_vals = [0.0]\n",
    "    vx_vals = [v_0*np.cos(theta)]\n",
    "    vy_vals = [v_0*np.sin(theta)]\n",
    "\n",
    "    while y_vals[-1] >= 0:\n",
    "        vx_new, vy_new, x_new, y_new = eulerCromer(x_vals[-1],y_vals[-1],\n",
    "                                                   vx_vals[-1],vy_vals[-1],\n",
    "                                                   g,b_over_m,delta_t)\n",
    "        x_vals.append(x_new)\n",
    "        y_vals.append(y_new)\n",
    "        vx_vals.append(vx_new)\n",
    "        vy_vals.append(vy_new)\n",
    "        \n",
    "    return x_vals,y_vals"
   ]
  },
  {
   "cell_type": "code",
   "execution_count": 84,
   "metadata": {
    "collapsed": false,
    "deletable": true,
    "editable": true
   },
   "outputs": [
    {
     "data": {
      "image/png": "[encoded data removed]",
      "text/plain": [
       "<matplotlib.figure.Figure at 0x11d791e48>"
      ]
     },
     "metadata": {},
     "output_type": "display_data"
    },
    {
     "name": "stdout",
     "output_type": "stream",
     "text": [
      "883.699250218 -0.000418371463552\n"
     ]
    }
   ],
   "source": [
    "x,y = generateTrajectory(30,100,9.80,0.01,0.00001,8000,0)\n",
    "\n",
    "jupytertools.plotting.darkPlot(x,y,'g.')\n",
    "print(x[-1],y[-1])"
   ]
  },
  {
   "cell_type": "code",
   "execution_count": 85,
   "metadata": {
    "collapsed": false,
    "deletable": true,
    "editable": true
   },
   "outputs": [],
   "source": [
    "def dist(theta, v0, g, R, delta_t,rho_o, rho_s=1):\n",
    "    '''\n",
    "    Calculate the distance traveled by some spherical projectile with some density rho_o through\n",
    "    some arbitrary medium with density rho_s which has gravity g where the projectile is \n",
    "    launched with some initial angle theta. \n",
    "    '''    \n",
    "    x,y = generateTrajectory(theta, v0, g, R, delta_t, rho_o, rho_s)\n",
    "    \n",
    "    # do the linear interpolation of the trajectory\n",
    "    end_x = x[-2:]\n",
    "    end_y = y[-2:]\n",
    "    \n",
    "    slope = (end_y[0] - end_y[1])/(end_x[1] - end_x[0])\n",
    "    \n",
    "    x_adj = end_y[1]/slope\n",
    "    \n",
    "    return x[-1] + x_adj"
   ]
  },
  {
   "cell_type": "code",
   "execution_count": 86,
   "metadata": {
    "collapsed": false,
    "deletable": true,
    "editable": true
   },
   "outputs": [
    {
     "data": {
      "image/png": "[encoded data removed]",
      "text/plain": [
       "<matplotlib.figure.Figure at 0x11f598320>"
      ]
     },
     "metadata": {},
     "output_type": "display_data"
    }
   ],
   "source": [
    "dist(30,100,9.80,0.01,1e-5,8000,0)\n",
    "\n",
    "dists = []\n",
    "\n",
    "for i in range(45):\n",
    "    dists.append(dist(i,100,9.80,0.01,0.001,8000,1.2))\n",
    "    \n",
    "jupytertools.plotting.darkPlot(np.arange(0,45),dists,\"g.\")"
   ]
  },
  {
   "cell_type": "code",
   "execution_count": 87,
   "metadata": {
    "collapsed": false,
    "deletable": true,
    "editable": true
   },
   "outputs": [],
   "source": [
    "def findMaxDist(v0,g,R,rho_o,rho_s):\n",
    "    '''\n",
    "    Use the principles of binary search to find the angle which produces the maximum distance \n",
    "    which the projectile can travel with the given initial conditions. \n",
    "    \n",
    "    The algorithm we will use will work as follows.\n",
    "    \n",
    "    First, calculate the distance travelled with an initial angle of 0 degrees, 22.5 degrees,\n",
    "    and an angle of 45 degrees. Then if the distance traveled by 22.5 degrees is greater than \n",
    "    the distance travelled with 45 degrees we will make 11.125 the new base and 22.5 + 11.125\n",
    "    the new max and then repeat.\n",
    "    '''\n",
    "    \n",
    "    min_angle = 0\n",
    "    max_angle = 45\n",
    "    mid_angle = (min_angle + max_angle)/2\n",
    "    angle_step = mid_angle/4\n",
    "    delta_t = 0.001\n",
    "    \n",
    "    \n",
    "    min_angle_dist = dist(min_angle, v0, g, R, delta_t,rho_o, rho_s)\n",
    "    max_angle_dist = dist(max_angle, v0, g, R, delta_t,rho_o, rho_s)\n",
    "    mid_angle_dist = dist(mid_angle, v0, g, R, delta_t,rho_o, rho_s)\n",
    "    \n",
    "    while (max_angle - mid_angle > 0.0001):\n",
    "        if (max_angle - min_angle < 1):\n",
    "            delta_t = 0.0001\n",
    "        elif (max_angle - min_angle < 0.1):\n",
    "            delta_t = 0.00001\n",
    "        elif (max_angle - min_angle < 0.01):\n",
    "            delta_t = 0.0000001\n",
    "        elif (max_angle - min_angle < 0.001):\n",
    "            delta_t = 0.00000001\n",
    "        min_angle_dist = dist(min_angle, v0, g, R, delta_t,rho_o, rho_s)\n",
    "        max_angle_dist = dist(max_angle, v0, g, R, delta_t,rho_o, rho_s)\n",
    "        mid_angle_dist = dist(mid_angle, v0, g, R, delta_t,rho_o, rho_s)\n",
    "    \n",
    "        #print(\"current \",max_angle,min_angle,max_angle_dist,mid_angle_dist,min_angle_dist)\n",
    "    \n",
    "        if (mid_angle_dist > max_angle_dist):\n",
    "            max_angle = mid_angle + angle_step\n",
    "            min_angle = mid_angle - angle_step\n",
    "            angle_step = angle_step/2\n",
    "        elif (mid_angle_dist < max_angle_dist):\n",
    "            min_angle = mid_angle\n",
    "            mid_angle = (max_angle + min_angle)/2\n",
    "        else:\n",
    "            return mid_angle_dist, mid_angle\n",
    "        \n",
    "        #print(\"new\",max_angle,mid_angle,min_angle)\n",
    "        \n",
    "    return mid_angle_dist, mid_angle"
   ]
  },
  {
   "cell_type": "code",
   "execution_count": 88,
   "metadata": {
    "collapsed": false,
    "deletable": true,
    "editable": true
   },
   "outputs": [
    {
     "name": "stdout",
     "output_type": "stream",
     "text": [
      "(1020.4010921528321, 44.99991416931152)\n",
      "(373.94118539428302, 37.46603965759277)\n",
      "(21.94594889147449, 24.2578125)\n"
     ]
    }
   ],
   "source": [
    "print(findMaxDist(100,9.80,0.01,8000,0))\n",
    "print(findMaxDist(100,9.80,0.01,8000,1.2))\n",
    "print(findMaxDist(100,9.80,0.01,160,1.2))"
   ]
  },
  {
   "cell_type": "code",
   "execution_count": 47,
   "metadata": {
    "collapsed": true
   },
   "outputs": [],
   "source": [
    "def calibrateTimeStep(angle_difference):\n",
    "        if(angle_difference >= 1):\n",
    "            return 0.001\n",
    "        elif (angle_difference < 1):\n",
    "            return 0.0001\n",
    "        elif (angle_difference < 0.1):\n",
    "            return 0.00001\n",
    "        elif (angle_difference < 0.01):\n",
    "            return 0.0000001\n",
    "        elif (angle_difference < 0.001):\n",
    "            return 0.00000001"
   ]
  },
  {
   "cell_type": "code",
   "execution_count": 78,
   "metadata": {
    "collapsed": false,
    "deletable": true,
    "editable": true
   },
   "outputs": [],
   "source": [
    "def focus(v0,g,R,rho_o,rho_s):\n",
    "    '''\n",
    "    Use the principles of binary search to find the angle which produces the maximum distance \n",
    "    which the projectile can travel with the given initial conditions. \n",
    "    \n",
    "    The algorithm we will use will work as follows.\n",
    "    \n",
    "    First, calculate the distance travelled with an initial angle of 0 degrees, 22.5 degrees,\n",
    "    and an angle of 45 degrees. Then if the distance traveled by 22.5 degrees is greater than \n",
    "    the distance travelled with 45 degrees we will make 11.125 the new base and 22.5 + 11.125\n",
    "    the new max and then repeat.\n",
    "    '''\n",
    "    \n",
    "    min_angle = 0\n",
    "    max_angle = 45\n",
    "    mid_angle = (min_angle + max_angle)/2\n",
    "    angle_step = mid_angle/4\n",
    "    delta_t = 0.001\n",
    "    \n",
    "    \n",
    "    min_angle_dist = 0\n",
    "    max_angle_dist = dist(max_angle, v0, g, R, delta_t,rho_o, rho_s)\n",
    "    mid_angle_dist = dist(mid_angle, v0, g, R, delta_t,rho_o, rho_s)\n",
    "    \n",
    "    while (max_angle - min_angle > 0.0001):\n",
    "        # calibrate the timestep so that we can accurately get the final angle and distance\n",
    "        # without minutes of CPU time.\n",
    "        delta_t = calibrateTimeStep(max_angle - min_angle)\n",
    "\n",
    "        # calculate the current mid angle\n",
    "        mid_angle = (min_angle + max_angle)/2\n",
    "            \n",
    "        # The meat of the algorithm. This has two main cases:\n",
    "        #   -  p(mid) < p(max) \n",
    "        #   -  p(mid) > p(max)\n",
    "        # \n",
    "        # In the first case, we simply move the min to mid.\n",
    "        if (mid_angle_dist < max_angle_dist):\n",
    "            min_angle_dist = mid_angle_dist\n",
    "            min_angle = mid_angle\n",
    "        # The second case is more complex as we now must consider two additional trajectories:\n",
    "        #   -  The trajectory from the angle half way between min and mid\n",
    "        #   -  The trajectory from the angle half way between mid and max\n",
    "        elif (mid_angle_dist >= max_angle_dist):\n",
    "            # calculate the two angles\n",
    "            qtr_1_angle = (min_angle+mid_angle)/2\n",
    "            qtr_3_angle = (mid_angle+max_angle)/2\n",
    "            \n",
    "            # calculate the two trajectories\n",
    "            qtr_1_dist = dist(qtr_1_angle, v0, g, R, delta_t,rho_o, rho_s)\n",
    "            qtr_3_dist = dist(qtr_3_angle, v0, g, R, delta_t,rho_o, rho_s)\n",
    "            \n",
    "            if (qtr_1_dist < mid_angle_dist):\n",
    "                min_angle = qtr_1_angle\n",
    "                mid_angle_dist = qtr_1_dist\n",
    "            else:\n",
    "                max_angle = mid_angle\n",
    "                max_angle_dist = mid_angle_dist\n",
    "                \n",
    "            if (qtr_3_dist < mid_angle_dist):\n",
    "                max_angle = qtr_3_angle\n",
    "                max_angle_dist = qtr_3_dist\n",
    "            else:\n",
    "                min_angle = mid_angle\n",
    "                min_angle_dist = mid_angle_dist\n",
    "                \n",
    "                \n",
    "        mid_angle = (min_angle + max_angle)/2\n",
    "        \n",
    "        min_angle_dist = dist(min_angle, v0, g, R, delta_t,rho_o, rho_s)\n",
    "        max_angle_dist = dist(max_angle, v0, g, R, delta_t,rho_o, rho_s)\n",
    "        mid_angle_dist = dist(mid_angle, v0, g, R, delta_t,rho_o, rho_s)\n",
    "        \n",
    "    return mid_angle_dist, mid_angle"
   ]
  },
  {
   "cell_type": "code",
   "execution_count": 79,
   "metadata": {
    "collapsed": false
   },
   "outputs": [
    {
     "name": "stdout",
     "output_type": "stream",
     "text": [
      "Steel ball in vacuum (1020.40109217651, 44.99995708465576)\n",
      "Steel ball in air (373.94091626858699, 37.50732421875)\n",
      "Balsa wood ball in air (21.945833960939485, 24.377117156982422)\n"
     ]
    }
   ],
   "source": [
    "print(\"Steel ball in vacuum\",focus(100,9.80,0.01,8000,0))\n",
    "print(\"Steel ball in air\",focus(100,9.80,0.01,8000,1.2))\n",
    "print(\"Balsa wood ball in air\",focus(100,9.80,0.01,160,1.2))"
   ]
  },
  {
   "cell_type": "code",
   "execution_count": null,
   "metadata": {
    "collapsed": true
   },
   "outputs": [],
   "source": []
  }
 ],
 "metadata": {
  "kernelspec": {
   "display_name": "Python [conda root]",
   "language": "python",
   "name": "conda-root-py"
  },
  "language_info": {
   "codemirror_mode": {
    "name": "ipython",
    "version": 3
   },
   "file_extension": ".py",
   "mimetype": "text/x-python",
   "name": "python",
   "nbconvert_exporter": "python",
   "pygments_lexer": "ipython3",
   "version": "3.5.3"
  }
 },
 "nbformat": 4,
 "nbformat_minor": 2
}
